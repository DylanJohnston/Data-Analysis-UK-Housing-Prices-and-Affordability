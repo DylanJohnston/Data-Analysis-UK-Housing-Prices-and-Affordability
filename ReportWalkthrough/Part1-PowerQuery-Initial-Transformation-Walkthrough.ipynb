{
 "cells": [
  {
   "cell_type": "markdown",
   "id": "4f2b797b-a63a-43e5-99dc-be0e8450d88d",
   "metadata": {},
   "source": [
    "# Overview"
   ]
  },
  {
   "attachments": {},
   "cell_type": "markdown",
   "id": "d02384ce-5d98-49d7-aa46-a492945a8d54",
   "metadata": {},
   "source": [
    "This project explores the question of affordability around UK housing. The datasets used are as follows:\n",
    "- [UK House Price Index (HM Land Registry)](https://www.gov.uk/government/statistical-data-sets/uk-house-price-index-data-downloads-january-2025)\n",
    "- [Annual Survey of Hours and Earnings (Sheet 12 - Full-time employees' pay by work region) (ONS)](https://www.ons.gov.uk/employmentandlabourmarket/peopleinwork/earningsandworkinghours/datasets/ashe1997to2015selectedestimates)\n",
    "- [CPIH Index (ONS)](https://www.ons.gov.uk/economy/inflationandpriceindices/timeseries/l522/mm23)"
   ]
  },
  {
   "cell_type": "markdown",
   "id": "e95c6d41-1448-430b-8816-189cf4ab0fdf",
   "metadata": {},
   "source": [
    "This initial transformation phase aims to prepare the data in a format suitable for use within SQL.\n",
    "\n",
    "This includes tasks such as unpivoting tables, removing columns irrelevant to the project, and eliminating \"spacer\" rows and columns.\n",
    "\n",
    "Datatypes of columns are not addressed at this stage, nor are dimension tables set up or relationships between tables defined. These tasks will be handled in the next phase, within SQL."
   ]
  },
  {
   "cell_type": "markdown",
   "id": "e9602e37-e905-495a-b1aa-3f91e01a35e7",
   "metadata": {},
   "source": [
    "# Initial Data Transformation (PowerQuery)"
   ]
  },
  {
   "cell_type": "markdown",
   "id": "79175465-1718-4200-b73b-046c595069d1",
   "metadata": {},
   "source": [
    "The original data sources are not structured in a format that is immediately suitable for use in SQL. For example, they contain spacer rows and columns, as well as data presented at multiple levels of granularity, which could lead to double (or even triple) counting. In this step, we focus on reshaping each dataset into a format that can be loaded into SQL, primarily through unpivoting and filtering, as needed.\n",
    "\n",
    "Note that this stage does not involve handling of data types."
   ]
  },
  {
   "cell_type": "markdown",
   "id": "a7d9b9ae-0195-4afb-8448-abe449bb1b59",
   "metadata": {},
   "source": [
    "## UK House Price Index"
   ]
  },
  {
   "attachments": {},
   "cell_type": "markdown",
   "id": "9e8763aa-351a-4c08-8455-889496f69b0d",
   "metadata": {},
   "source": [
    "This source contains data such as average house sale price, volume of sales, and average sale price by property type (e.g. detached, semi-detached, terraced, flat), all broken down by region.\n",
    "\n",
    "However, the data includes rows at multiple levels of granularity — for example, UK-wide figures, RUTS1 regions, RUTS2 regions, and individual towns and cities. Retaining all of these would lead to significant overcounting. To avoid this, only the rows at the RUTS1 region level are kept. Specifically, these regions are:\n",
    "\n",
    "- North East  \n",
    "- North West  \n",
    "- Yorkshire and The Humber  \n",
    "- East Midlands  \n",
    "- West Midlands  \n",
    "- East of England  \n",
    "- London  \n",
    "- South East  \n",
    "- South West  \n",
    "- Scotland  \n",
    "- Wales  \n",
    "- Northern Ireland\n",
    "\n",
    "To filter the data accordingly — and to avoid using the built-in column filter (which doesn't seem to behave as I would expect when combined with the search feature) — a helper table containing the RUTS1 regions (called `RUTS1Regions`) has been created. An additional column is added to the main table to act as an indicator of whether a row corresponds to a RUTS1 region or not.\n",
    "\n",
    "![A snapshot of the helper function, indicating whether a row is based on a RUTS region or not](documentation_images/DiscardKeepHelper.png)\n",
    "\n",
    "The table is then loaded into Power Query, where the data is filtered to keep only the \"Keep\" rows and discard the rest. Additionally, all columns are removed except the following:\n",
    "\n",
    "- `Date`\n",
    "- `RegionName`\n",
    "- `AveragePrice`\n",
    "- `SalesVolume`\n",
    "- The average price columns for each property type (detached, semi-detached, terraced, and flat)\n",
    "\n",
    "![The House Price Index table with unneeded columns removed](documentation_images/HPIFilteredPowerQuery.png)"
   ]
  },
  {
   "cell_type": "markdown",
   "id": "f128f46d-7c23-4ec7-80e8-615380ff665d",
   "metadata": {},
   "source": [
    "This table is loaded and saved as \"HPIInitialTransform.csv\""
   ]
  },
  {
   "cell_type": "markdown",
   "id": "714c4532-83de-4f87-8a95-6d953bb2b90f",
   "metadata": {},
   "source": [
    "### A note on national data"
   ]
  },
  {
   "cell_type": "markdown",
   "id": "64d34f61-0598-44b9-a3f9-0266f3cf16f7",
   "metadata": {},
   "source": [
    "No sales volumes are provided for the different types of houses sold (detached, semi, terraced, and flats) for each region, and so there is no way to reconstruct the national average sale price by type using the regional data (without assumptions on the distribution of each type sold). \n",
    "\n",
    "Luckily, national figures are provided (filter for RegionName = \"United Kingdom\"), so we create a separate table with these figures.\n",
    "\n",
    "We will also include the sales volume and Average Price columns, as although we could technically reproduce them using the regional data, i.e. $$ \\text{National Average Price} = \\frac{\\sum_{\\text{regions}} \\big( \\text{Average price by region} \\times \\text{Sales volume per region}\\big)}{\\sum_{\\text{regions}} \\text{sales volume per region}},$$ the national data is available and so we may as well use it.\n",
    "\n",
    "This table is saved as \"HPINational.csv\". It will be used when doing analysis on the national level.\n",
    "\n",
    "![The House Price Index table with unneeded columns removed](documentation_images/HPINationalSnapshot.png)"
   ]
  },
  {
   "cell_type": "markdown",
   "id": "1c9edd49-ced4-4505-959a-8a67ac0e70e2",
   "metadata": {},
   "source": [
    "## Annual Survey of Hours and Earnings (median pay by region) - Initial data transformation"
   ]
  },
  {
   "cell_type": "markdown",
   "id": "3f4ae604-b34d-4701-b132-ea6c1ea2c8d1",
   "metadata": {},
   "source": [
    "From this source, we use the median gross annual earnings of full-time employed workers by region. The original data source looks as follows: \n",
    "\n",
    "![snapshot of the original source data for the UK House Price Index, obtained via the HM Land Registry](documentation_images/MedianSalarySource.png)\n",
    "\n",
    "The following formatting issues will be corrected:\n",
    "- Multiple \"header\" and \"subheader\" rows will be removed.\n",
    "- Some years, such as 2004, 2011 and 2021, have multiple entries due to the presence of an \"old vs new\" way of measuring the data. In each case, we will remove the \"old\" way. Moreover, these columns are separated by a \"spacer column\", which will be removed.\n",
    "- The summary rows labelled \"United Kingdom\", and \"England\" will be removed to avoid double-counting (or triple-counting).\n",
    "- The data is in a pivot-table format, but does not have pivot-table functionality. The data is more suitably presented using a column for the region, a column for the year, and a third column for the value. We will therefore have to unpivot the table.\n",
    "\n",
    "These changes will be performed in PowerQuery. A snapshot summary of this process is as follows:"
   ]
  },
  {
   "cell_type": "markdown",
   "id": "76cec083-353a-4445-9482-9bf4d36d5458",
   "metadata": {},
   "source": [
    "![snapshot summarising the data transformation carried out in PowerQuery](documentation_images/MedianSalaryPowerQuery.png)"
   ]
  },
  {
   "cell_type": "markdown",
   "id": "3a137c20-a1bb-4949-a2a1-47c83a68e408",
   "metadata": {},
   "source": [
    "Now we have a table containing a row for each (Region,Year) pair, along with the median salary value. \n",
    "\n",
    "Note that the \"Year\" column is not numerical, and contains issues such as 2006 displaying as 2006*, or 2011 displaying as 2011soc10. Transforming this column by extracting the first four characters resolves this.\n",
    "\n",
    "This table is saved as a .csv, called \"MedianPayInitialTransform.csv\""
   ]
  },
  {
   "cell_type": "markdown",
   "id": "1b864c6f-e293-4ec2-b128-1390f1647fdf",
   "metadata": {},
   "source": [
    "### A caveat with using median data. "
   ]
  },
  {
   "cell_type": "markdown",
   "id": "aa8f317e-45a2-4cd2-b613-a6d961fe5dfe",
   "metadata": {},
   "source": [
    "The median of the median salaries by region is NOT the median salary of the whole United Kingdom (the median of the medians of a partition of the dataset is NOT the median of the original dataset). \n",
    "\n",
    "Therefore, we create another table (a national version) containing only the median salary for each year for the entire United Kingdom. It has two columns, namely \"Year\" and \"MedianSalary\" and is saved as \"MedianSalaryNational.csv\". It will be used when finding insights and producing visuals on the national level.\n",
    "\n",
    "![Tranformed data showing UK wide median salary for each year](documentation_images/MedianSalaryUKWide.png)"
   ]
  },
  {
   "cell_type": "markdown",
   "id": "54370093-fd30-42a8-a975-97673041d0dd",
   "metadata": {},
   "source": [
    "## CPIH Index - Initial data transformation"
   ]
  },
  {
   "cell_type": "markdown",
   "id": "ef53a5e3-ea16-41b5-8348-9e6efb3c6ddb",
   "metadata": {},
   "source": [
    "The last source we will use - the CPIH Index, with base month July 2015 (i.e. CPI for July 2015 is 100).\n",
    "\n",
    "This is the most straightforward source to transform. On line 194 of the source file, the data changes from quarterly data to monthly data. We therefore remove rows 1 to 193, and give the columns meaningful names.\n",
    "\n",
    "![Removing the first 193 rows in PowerQuery, obtaining monthly data](documentation_images/CPIHPowerQuery.png)"
   ]
  },
  {
   "cell_type": "markdown",
   "id": "52a1a427-c250-406c-b2c3-99772df0168e",
   "metadata": {},
   "source": [
    "Note that the MonthYear column is a text column (not a date column). We will deal with this in SQL. \n",
    "\n",
    "This table is saved as a .csv, called \"CPIHInitialTransform.csv\""
   ]
  }
 ],
 "metadata": {
  "kernelspec": {
   "display_name": "Python [conda env:base] *",
   "language": "python",
   "name": "conda-base-py"
  },
  "language_info": {
   "codemirror_mode": {
    "name": "ipython",
    "version": 3
   },
   "file_extension": ".py",
   "mimetype": "text/x-python",
   "name": "python",
   "nbconvert_exporter": "python",
   "pygments_lexer": "ipython3",
   "version": "3.12.7"
  }
 },
 "nbformat": 4,
 "nbformat_minor": 5
}
