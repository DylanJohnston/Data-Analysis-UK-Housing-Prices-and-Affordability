{
 "cells": [
  {
   "cell_type": "markdown",
   "id": "4f2b797b-a63a-43e5-99dc-be0e8450d88d",
   "metadata": {},
   "source": [
    "# Overview"
   ]
  },
  {
   "attachments": {},
   "cell_type": "markdown",
   "id": "d02384ce-5d98-49d7-aa46-a492945a8d54",
   "metadata": {},
   "source": [
    "In this section, we import our cleaned and modelled data from MySQL into Power BI to create a report, summarising the questions answered and information obtained from the SQL insights section."
   ]
  },
  {
   "cell_type": "markdown",
   "id": "50b8f6c7-5837-4afd-9840-34aca2a5c155",
   "metadata": {},
   "source": [
    "The layout of this walkthrough is as follows: each section will focus on a specific type of task (e.g., data modelling, creating measures, building visuals, adding slicers and functionality), along with additional sections highlighting major challenges encountered and how they were resolved.\n",
    "\n",
    "To maintain chronological flow, closely following the order in which the report was developed, the report shown throughout this walkthrough will remain in a rough, unpolished state, with final formatting and presentation completed in the last step."
   ]
  },
  {
   "cell_type": "markdown",
   "id": "6c61e34d-4cc7-459b-b133-2f6a3a6b472a",
   "metadata": {},
   "source": [
    "# Importing the Data and Checking That Relationships Are Set Up Correctly"
   ]
  },
  {
   "cell_type": "markdown",
   "id": "171cc8ac-4c58-4781-b586-0d0bc30da1b2",
   "metadata": {},
   "source": [
    "We load the data from a MySQL Database. The model view shows us the following:\n",
    "\n",
    "![model view of imported schema from MySQL](documentation_images/ImportMySQLPowerBI.png)"
   ]
  },
  {
   "cell_type": "markdown",
   "id": "d94ef697-aeb0-4f83-b677-b5a4c009005e",
   "metadata": {},
   "source": [
    "Firstly, we add a calculated column `yearmonth = [year] * 100 + [month]` to both the `datesdim` and `cpih` tables, as this allows us to effectively create a one-to-one relationship on (year, month) pairs.\n",
    "\n",
    "With regards to the relationships between the `datesdim` and median salary tables (both regional and national), a potential issue is that the `year` column in the dimension table, `datesdim`, does not consist of unique values. Therefore, relationships between `year` have a \"many\" on the `datesdim` side. \n",
    "\n",
    "To amend this, another dimension table is created, called `yearsdim`, with a two-sided filter direction with the `datesdim` table. The newly created `yearsdim` is related to the median salary tables.\n",
    "\n",
    "![Model view with relationships set up in PowerBI](documentation_images/RelationshipsPowerBI.png)"
   ]
  },
  {
   "cell_type": "markdown",
   "id": "83da0765-5077-43c3-91f7-b6bc338463da",
   "metadata": {},
   "source": [
    "# Handling national v.s. regional data, and creating the required measures (e.g. CPIH adjusted house prices)."
   ]
  },
  {
   "cell_type": "markdown",
   "id": "d50d7d24-e644-4798-95a7-85f04503ea7b",
   "metadata": {},
   "source": [
    "## Adding calculated columns for the CPIH adjusted prices and the affordability index"
   ]
  },
  {
   "cell_type": "markdown",
   "id": "8f7bdaab-49c1-4285-8eaa-bdc2275b1318",
   "metadata": {},
   "source": [
    "For each house price entry (in both the regional and national tables), we need to adjust this for CPIH, and also calculate the ratio with median salary (the \"affordability index\"). These are added as calculated columns, since they involve row-by-row calculations"
   ]
  },
  {
   "cell_type": "markdown",
   "id": "ae29143d-ef09-4fd0-90b7-6ceb58bd7ebe",
   "metadata": {},
   "source": [
    "We begin with the national table, `housepricesnational`. To calculate CPIH-adjusted house prices, we use the `RELATED` function. Each house price entry has an associated date, and the idea is that `RELATED` follows the established relationships to retrieve the corresponding CPIH index for that date.\n",
    "\n",
    "The calculated column for CPIH-adjusted national house prices is defined using the following DAX formula. Note that because some CPIH values may be missing or zero, we first check whether the index is non-zero. If it is, we perform the adjustment, otherwise, we return a blank value:\n",
    "\n",
    "```DAX\n",
    "average_price_CPIH_adjusted = \n",
    "IF(\n",
    "    RELATED(cpih[index_normed]) <> 0, \n",
    "    housepricesnational[average_price] / RELATED(cpih[index_normed]), \n",
    "    BLANK()\n",
    ")\n",
    "```"
   ]
  },
  {
   "cell_type": "markdown",
   "id": "18cbf010-7b0c-4f40-a5d1-c6ca0d38e329",
   "metadata": {},
   "source": [
    "The following diagram illustrates how the RELATED function works. Travel from one table to another is faciltated by the relationships that have been defined. Within a table, the travel from one column to another corresponds to \"reading across the row\".\n",
    "\n",
    "![A diagram showing how RELATED travels through tables to find the related value](documentation_images/RELATEDVisualised.png)"
   ]
  },
  {
   "cell_type": "markdown",
   "id": "0c4893b2-c66f-40e3-930c-2028cc7ae7a7",
   "metadata": {},
   "source": [
    "Creating a calculated column for the national affordability index (i.e. average price/median salary) follows the exact same format, with a related value taken from the `mediansalarynational` table instead.\n",
    "\n",
    "```dax\n",
    "affordability_index = \n",
    "IF(\n",
    "    RELATED(mediansalarynational[MedianSalary]) <> 0, \n",
    "    housepricesnational[average_price] / RELATED(mediansalarynational[MedianSalary]), \n",
    "    BLANK()\n",
    ")\n",
    "```"
   ]
  },
  {
   "cell_type": "markdown",
   "id": "c00e522e-1d9b-42ea-9e25-04249656ebc3",
   "metadata": {},
   "source": [
    "------"
   ]
  },
  {
   "cell_type": "markdown",
   "id": "be668f33-e6fe-46e5-98ac-9c305582b57d",
   "metadata": {},
   "source": [
    "For the regional table, creating the CPIH adjusted average price is essentially the same, achieved with the DAX function:\n",
    "\n",
    "```dax\n",
    "average_price_CPIH_adjusted = \n",
    "IF(\n",
    "    RELATED(cpih[index_normed]) <> 0,\n",
    "    housepricesregional[average_price] / RELATED(cpih[index_normed]),\n",
    "    blank()\n",
    "    )\n",
    "```"
   ]
  },
  {
   "cell_type": "markdown",
   "id": "2fbae6f4-8a3c-4ef4-a2a8-4ad1471defab",
   "metadata": {},
   "source": [
    "For the affordability index, however, we have an issue. Specifically, there is no relationship between `housepricesregional` and `mediansalaryregional` (look closely at the directions of the relationships in the model view). \n",
    "\n",
    "Making these relationships bi-directional is a solution, but not a great one. \n",
    "\n",
    "Better is to create require a helper column, `regionyear`, in both the `mediansalaryregional`and `housepricesregional` tables (this will just be a concatenation of the region name and then the year, as it doesn't have to be usable/practical in any other situation, so long as it uniquely identifies a row) and relate them directly. \n",
    "\n",
    "```dax\n",
    "-- for the `mediansalaryregional` table\n",
    "regionyear = CONCATENATE([region],[year])\n",
    "\n",
    "-- for the `housepricesregional` table\n",
    "regionyear = CONCATENATE([region],YEAR([date]))\n",
    "\n",
    "```\n",
    "\n",
    "These helper columns will allow us to create a one-to-many relationship from `mediansalaryregional` to `housepricesregional`, thus enabling the use of the `RELATED` function.\n",
    "\n",
    "It should be noted that we must disable the current active relationships from `regionsdim` and `yearsdim` to the `mediansalaryregional` table to allow for this new relationship. This is OK, as any information required from the `mediansalaryregional` table can be obtained using our new relationship anyway.\n",
    "\n",
    "With this in place, the affordability index column is calculated just as in the national table (with the obvious modifications):\n",
    "\n",
    "```dax\n",
    "affordability_index = \n",
    "IF(\n",
    "    RELATED(mediansalaryregional[salary]) <> 0, \n",
    "    housepricesregional[average_price] / RELATED(mediansalaryregional[salary]), \n",
    "    BLANK()\n",
    ")\n",
    "```"
   ]
  },
  {
   "cell_type": "markdown",
   "id": "b58ef02f-d4bb-48eb-97fe-83d5eb621b68",
   "metadata": {},
   "source": [
    "Part of the new model view (with the updated relationship) is as follows:\n",
    "\n",
    "![New part of the model view, with the new regionyear one-to-many relationship in place](documentation_images/RegionYearRelationship.png)"
   ]
  },
  {
   "cell_type": "markdown",
   "id": "ebfa6be5-e785-4545-9aca-254849f0797e",
   "metadata": {},
   "source": [
    "## Creating dynamic regional v.s. national measures"
   ]
  },
  {
   "cell_type": "markdown",
   "id": "a8d9ce1b-c80e-4323-b258-662916640909",
   "metadata": {},
   "source": [
    "The plan is for the report to feature a slicer that allows users to select a specific region (e.g., West Midlands) or select all regions. Typically, this would be no problem, as any calculations would adjust dynamically based on the slicer selection (i.e. the filter context).\n",
    "\n",
    "However, in our case, we have separate tables for regional and national data. Recall that this is because the national median cannot be derived from the regional medians. To work around this, we created distinct regional and national tables.\n",
    "\n",
    "So, we need to tell Power BI to use regional data if only one region is selected, and national data if all regions are selected. This can be achieved using the `HASONEFILTER` function, which returns TRUE if a single value from a specified field is in the active context, and FALSE otherwise. \n",
    "\n",
    "We will produce these measures for average price, sales volume, detached average, semi-detached average, terraced average, flat average, CPIH adjusted average price, and affordability index from the housing price tables, as well as the salary from the median salary tables. (9 in total.)"
   ]
  },
  {
   "cell_type": "markdown",
   "id": "9b0cd7bb-2d78-49e6-9430-bc63d4ab6f17",
   "metadata": {},
   "source": [
    "Each of the nine measures has essentially the same structure. We name them with a suffix \"RorN\" (Regional or National) so we can immediately identify them as dynamic/contextual measures. \n",
    "\n",
    "The measure for average house price is:\n",
    "\n",
    "```dax\n",
    "avg_price_RorN = \n",
    "IF (\n",
    "    HASONEFILTER('regionsdim'[Region]),\n",
    "    SUMX('housepricesregional', [average_price] * [sales_volume]) / SUM('housepricesregional'[sales_volume]),\n",
    "    SUMX('housepricesnational', [average_price] * [sales_volume]) / SUM('housepricesnational'[sales_volume])\n",
    ")\n",
    "```"
   ]
  },
  {
   "cell_type": "markdown",
   "id": "43bb889f-812e-4064-9c54-6e507379fbb9",
   "metadata": {},
   "source": [
    "Notice that to find the average, we must multiply each `average_price` entry by the `sales_volume`, and then divide by `SUM([sales_volume])`. The reason for this is to give higher weight to rows with more `sales_volume` (i.e. use a weighted average).\n",
    "\n",
    "Note that with the measure set up this way, if two or more regions are in the active context, the national average price will be used. This is not an issue for us, as the slicer will be set up to allow either a single region to be selected, or all regions to be selected. Therefore, selecting 2 or 3 regions (but not all of them) will not be possible."
   ]
  },
  {
   "cell_type": "markdown",
   "id": "117f4ae4-78f8-4f57-a5ec-3f14b57e8dec",
   "metadata": {},
   "source": [
    "The other eight measures look very similar, they are as follows:\n",
    "\n",
    "```dax\n",
    "sales_volume_RorN = \n",
    "IF (\n",
    "    HASONEFILTER('regionsdim'[Region]),\n",
    "    SUM('housepricesregional'[sales_volume]),\n",
    "    SUM('housepricesnational'[sales_volume])\n",
    ")\n",
    "```\n",
    "\n",
    "```dax\n",
    "detached_avg_RorN = \n",
    "IF (\n",
    "    HASONEFILTER('regionsdim'[Region]),\n",
    "    SUMX('housepricesregional', [detached_avg] * [sales_volume]) / SUM('housepricesregional'[sales_volume]),\n",
    "    SUMX('housepricesnational', [detached_avg] * [sales_volume]) / SUM('housepricesnational'[sales_volume])\n",
    ")\n",
    "```\n",
    "\n",
    "```dax\n",
    "semi_avg_RorN = \n",
    "IF (\n",
    "    HASONEFILTER('regionsdim'[Region]),\n",
    "    SUMX('housepricesregional', [semi_avg] * [sales_volume]) / SUM('housepricesregional'[sales_volume]),\n",
    "    SUMX('housepricesnational', [semi_avg] * [sales_volume]) / SUM('housepricesnational'[sales_volume])\n",
    ")\n",
    "```\n",
    "\n",
    "```dax\n",
    "terraced_avg_RorN = \n",
    "IF (\n",
    "    HASONEFILTER('regionsdim'[Region]),\n",
    "    SUMX('housepricesregional', [terraced_avg] * [sales_volume]) / SUM('housepricesregional'[sales_volume]),\n",
    "    SUMX('housepricesnational', [terraced_avg] * [sales_volume]) / SUM('housepricesnational'[sales_volume])\n",
    ")\n",
    "```\n",
    "\n",
    "```dax\n",
    "flat_avg_RorN = \n",
    "IF (\n",
    "    HASONEFILTER('regionsdim'[Region]),\n",
    "    SUMX('housepricesregional', [flat_avg] * [sales_volume]) / SUM('housepricesregional'[sales_volume]),\n",
    "    SUMX('housepricesnational', [flat_avg] * [sales_volume]) / SUM('housepricesnational'[sales_volume])\n",
    ")\n",
    "```\n",
    "\n",
    "```dax\n",
    "avg_price_CPIH_adjusted_RorN =\n",
    "IF (\n",
    "    HASONEFILTER('regionsdim'[Region]),\n",
    "    SUMX('housepricesregional', [average_price_CPIH_adjusted] * [sales_volume]) / SUM('housepricesregional'[sales_volume]),\n",
    "    SUMX('housepricesnational', [average_price_CPIH_adjusted] * [sales_volume]) / SUM('housepricesnational'[sales_volume])\n",
    ")\n",
    "```\n",
    "\n",
    "```dax\n",
    "affordability_index_RorN = \n",
    "IF (\n",
    "    HASONEFILTER('regionsdim'[Region]),\n",
    "    SUMX('housepricesregional', [affordability_index] * [sales_volume]) / SUM('housepricesregional'[sales_volume]),\n",
    "    SUMX('housepricesnational', [affordability_index] * [sales_volume]) / SUM('housepricesnational'[sales_volume])\n",
    ")\n",
    "```\n",
    "\n",
    "```dax\n",
    "median_salary_RorN = \n",
    "IF (\n",
    "    HASONEFILTER('regionsdim'[Region]),\n",
    "    AVERAGE(mediansalaryregional[salary]),\n",
    "    AVERAGE(mediansalarynational[MedianSalary])\n",
    ")\n",
    "```"
   ]
  },
  {
   "cell_type": "markdown",
   "id": "90683150-444c-480c-942d-aeebbbd35a3e",
   "metadata": {},
   "source": [
    "These are stored in a separate `MyMeasures` table for organisational reasons\n",
    "\n",
    "![overview of the MyMeasures table, holding all the RorN measures](documentation_images/MeasuresTable.png)"
   ]
  },
  {
   "cell_type": "markdown",
   "id": "afa57f83-b15a-44da-bdc9-858a4c9ab3ce",
   "metadata": {},
   "source": [
    "## Slicer allowing selection of a single or all regions"
   ]
  },
  {
   "cell_type": "markdown",
   "id": "4181550c-6fa6-4a76-b11a-a662c5af9452",
   "metadata": {},
   "source": [
    "An unexpected issue arises here, as Power BI does not currently have a slicer configuration that allows both single select and a 'select all' option.\n",
    "\n",
    "Luckily, there is a trick/workaround, as seen [in this YouTube Video.](https://www.youtube.com/watch?v=CTsNxnQvxns&t=141s)\n",
    "\n",
    "The \"trick\" is to add a helper column into the `regionsdim` table with a constant value \"Select All\", and add this helper column to the single select slicer, alongside the `region` column, to provide a makeshift \"select all\" button. "
   ]
  },
  {
   "cell_type": "markdown",
   "id": "133af52b-cb0c-41a4-9a8f-70bc725949c2",
   "metadata": {},
   "source": [
    "The helper column can easily be added using DAX, i.e. `SelectAll = \"Select All\"`, and the outcome is the following:"
   ]
  },
  {
   "cell_type": "markdown",
   "id": "a9fdf274-caf6-47d5-8de6-d794e0f4b31a",
   "metadata": {},
   "source": [
    "![Method to add Select All option to a single select slicer](documentation_images/SelectAllTrick.png)"
   ]
  },
  {
   "cell_type": "markdown",
   "id": "bc1b05a4-4317-41c7-b0b3-093c8ee4170b",
   "metadata": {},
   "source": [
    "# Creating the visualisations"
   ]
  },
  {
   "cell_type": "markdown",
   "id": "eb782ff6-bdf6-4f00-9bd9-4daf87f0b063",
   "metadata": {},
   "source": [
    "The report will consist of the following visualisations:\n",
    "\n",
    "1. A title...\n",
    "2. Slicers for year and region selection\n",
    "3. Housing price trends, presented in three ways, namely, as nominal prices, CPIH-adjusted prices, and an affordability index\n",
    "4. A map displaying average affordability by region (see later, a bar chart visualisation is used instead).\n",
    "5. Distribution-based charts showing: the percentage distribution of average prices of housing by type; total yearly sales by region; the percentage distribution of total sales by month\n",
    "\n",
    "As mentioned above, we begin by creating the visuals with minimal or no formatting. Once all visualisations are confirmed and positioned, we then choose a colour scheme and styling, and apply consistent formatting across the entire report.\n",
    "\n",
    "The following is a rough plan for the layout of the report (foreshadowing: the final report doesn't end up looking exactly like this):\n",
    "\n",
    "![A rough plan of the layout for the report](documentation_images/ReportRoughLayoutPlan.png)"
   ]
  },
  {
   "cell_type": "markdown",
   "id": "85fe73d9-3829-454b-a41a-dae9c1094981",
   "metadata": {},
   "source": [
    "## Creating the title"
   ]
  },
  {
   "cell_type": "markdown",
   "id": "91fb14d4-60da-4e6c-bd06-38d98f6d50ec",
   "metadata": {},
   "source": [
    "There's not too much to say here, we choose a short, catchy title and ensure the terms \"UK housing\", \"price\", \"trend\" and \"affordability\" are in it, since this is what the report focuses on.\n",
    "\n",
    "We create a text box, add the main title \"UK Housing Report\", and add a subtitle \"Housing Price Trends and Affordability\".\n",
    "\n",
    "We leave the formatting to the end. This gives us the following visual:\n",
    "\n",
    "![Report title visual with no formatting](documentation_images/ReportTitle.png)"
   ]
  },
  {
   "cell_type": "markdown",
   "id": "dfa68db5-9419-4370-a772-ff137ad592cd",
   "metadata": {},
   "source": [
    "## Creating the slicers"
   ]
  },
  {
   "cell_type": "markdown",
   "id": "9bd1a461-d96c-460b-93a3-5e4918508fa4",
   "metadata": {},
   "source": [
    "Not much needs to be done here, since the tricky part, namely, getting a 'select all' option to appear within a single-select slicer, has already been addressed.\n",
    "\n",
    "The `year` column of `YearsDim` is added to a slicer to create the year slicer. \n",
    "\n",
    "Both the `SelectAll` and `regions` columns from the `regionsdim` table are added to another slicer to create the region slicer.\n",
    "\n",
    "They are as follows:\n",
    "\n",
    "![report slicers (year and region) with no formatting](documentation_images/ReportSlicers.png)"
   ]
  },
  {
   "cell_type": "markdown",
   "id": "4134b551-ad9c-40be-a66a-9effa41f2c03",
   "metadata": {},
   "source": [
    "## Creating the three housing price trends visuals (nominal, CPIH adjusted, and affordability)"
   ]
  },
  {
   "cell_type": "markdown",
   "id": "66ce1fd3-03c8-48be-aad9-db83ed5dab04",
   "metadata": {},
   "source": [
    "These visuals make use of our contextual measures, ensuring that the charts dynamically use either regional or national data based on the selection in the region slicer."
   ]
  },
  {
   "cell_type": "markdown",
   "id": "623b547e-9e82-4ca3-a1e9-38439bd481e0",
   "metadata": {},
   "source": [
    "Each of the visuals is created by dragging the `year` column into the x-axis field, and dragging the relevant measure into the y-axis field.\n",
    "\n",
    "(checking **Format → Edit Interactions** for each slicer and briefly testing them out, we verify that the slicers filter the visuals, which is the intended behaviour.)"
   ]
  },
  {
   "cell_type": "markdown",
   "id": "71fda914-3f77-4319-9221-487f9d1fd984",
   "metadata": {},
   "source": [
    "They are as follows (note: as it stands, they are too small, and if they cannot be enhanced via formatting, we may remove one or rearrange the report):\n",
    "\n",
    "![Line charts showing nominal price, CPIH adjusted price, and affordability](documentation_images/ReportPriceAffordabilityLineCharts.png)"
   ]
  },
  {
   "cell_type": "markdown",
   "id": "8f94f91e-9ddc-4c46-bf0d-34970f1d6e6f",
   "metadata": {},
   "source": [
    "## Creating the map visual (due to issues, we use a different visual instead...)"
   ]
  },
  {
   "cell_type": "markdown",
   "id": "7c572916-e9c1-41be-ab66-3d0aab87b358",
   "metadata": {},
   "source": [
    "This visual displays the average affordability index for each region, calculated over the currently selected years from the year slicer."
   ]
  },
  {
   "cell_type": "markdown",
   "id": "439ec7d0-3ab5-41e8-aa60-3c67cc3946b9",
   "metadata": {},
   "source": [
    "Attempting to use the filled region, however, results in issues. Namely, dragging `region` (which has been changed to Data category \"State or Province\") into the location section of the visual gives unexpected results. For example, the `north west` value fills in the north west of South Africa...\n",
    "\n",
    "![north west region is shaded the north west of south africa](documentation_images/FilledMapRegionIssue.png)"
   ]
  },
  {
   "cell_type": "markdown",
   "id": "1ebf5819-e618-4035-97aa-4dbbd6e8cf99",
   "metadata": {},
   "source": [
    "In truth, this is reasonable. The region \"North West\" is not descriptive enough, we know this to mean \"North West [of England]\", but Power BI should not be expected to gather the required context to do this (potentially, this will change in the future with AI integration). \n",
    "\n",
    "To fix this, we add a column to our `regionsdim` table, giving the ITS1 (International Territorial Level) codes for each region, and use this as our location data, rather than the (vague) region name data we currently have. \n",
    "\n",
    "The [codes can be found here](https://en.wikipedia.org/wiki/First-level_NUTS_of_the_European_Union#United_Kingdom) (including NI, Wales, and Scotland), however, note that since 2021, the [codes now use \"TL\" instead of \"UK\"](https://en.wikipedia.org/wiki/ITL_1_statistical_regions_of_England#List_of_regions). "
   ]
  },
  {
   "cell_type": "markdown",
   "id": "819c058f-a96b-4886-b17c-c73538448b03",
   "metadata": {},
   "source": [
    "![A column containing the ITL1 codes added to regionsdim table](documentation_images/TLCodesAddedToRegion.png)"
   ]
  },
  {
   "cell_type": "markdown",
   "id": "4f6139b1-7251-471e-92ed-eb97a0a93acd",
   "metadata": {},
   "source": [
    "no luck... \n",
    "\n",
    "The regions \"Northern Ireland\", \"Wales\" and \"Scotland\" worked perfectly before, so the next thing to try is to add a column of the form [region],[country], where country is one of England, Wales, Scotland, Northern Ireland. This will hopefully give Power BI enough context to place the regions correctly.\n",
    "\n",
    "![A column containing the [region], [country] added to regionsdim table](documentation_images/CountryAddedToRegion.png)"
   ]
  },
  {
   "cell_type": "markdown",
   "id": "e8c7f42c-7a69-442f-a95e-116a074a954e",
   "metadata": {},
   "source": [
    "Once again, no luck...\n",
    "\n",
    "Another attempt using \"[region], UK\" was attempted, but was also unsuccessful.\n",
    "\n",
    "So, we concede and use a column chart instead... \n",
    "\n",
    "On the bright side, this is easy to set up - simply drag `region` from `regionsdim` into the x-axis section and the `affordability_index` measure into the y-axis section. Note that due to the visual filter context (namely the region name on the x-axis), the measure will always use regional data.\n",
    "\n",
    "It looks as follows:\n",
    "\n",
    "![column chart displaying average affordability index by region](documentation_images/AverageAffordabilityVisual.png)\n",
    "\n",
    "Lastly, we adjust the interaction between the region slicer and this visual, ensuring that the slicer selection has no impact on the chart."
   ]
  },
  {
   "cell_type": "markdown",
   "id": "14da87bc-30fc-4dbb-a5ab-86ab6aba9a85",
   "metadata": {},
   "source": [
    "## Creating the distribution based visuals."
   ]
  },
  {
   "cell_type": "markdown",
   "id": "7fd0e140-b51e-4017-99c1-ff0559a74a2f",
   "metadata": {},
   "source": [
    "Finally, we create charts showing the average relative cost of each housing type by year (distribution of housing price), the total sales by region by year, and the monthly distribution of sales."
   ]
  },
  {
   "cell_type": "markdown",
   "id": "6d960708-c8ec-4b8e-aff9-77a0cf7c0e9b",
   "metadata": {},
   "source": [
    "---\n",
    "\n",
    "First up, the distribution of average price per type (detached, semi, terraced, flat) per year. \n",
    "\n",
    "We use a 100% stacked area chart, add the `year` to the x-axis, the the measures `detached_avg_RorN`, `semi_avg_RorN`, `terraced_avg_RorN`, `flat_avg_RorN` on the y-axis.\n",
    "\n",
    "This produces the following visual:\n",
    "\n",
    "![A 100% stacked area chart showing the distribution of average price by house type](documentation_images/ReportPriceByTypeDistribution.png)"
   ]
  },
  {
   "cell_type": "markdown",
   "id": "4b2170d0-e8fd-46f1-8ac8-ed04d3dad792",
   "metadata": {},
   "source": [
    "---\n",
    "\n",
    "Secondly, we produce a visual showing the total sales by region by year. \n",
    "\n",
    "For this, we use a stacked area chart. We add `year` to the x-axis, `sales_volume_RorN` to the y-axis, and `region` to the legend. \n",
    "\n",
    "This produces the following:\n",
    "\n",
    "![a visual showing the sales per region in each year](documentation_images/ReportSalesByRegion.png)"
   ]
  },
  {
   "attachments": {},
   "cell_type": "markdown",
   "id": "bc88c19c-52f1-4fc6-bb65-b3fd251e84ae",
   "metadata": {},
   "source": [
    "---\n",
    "\n",
    "Lastly, we produce a visual showing the monthly distribution in sales. \n",
    "\n",
    "Once again, we use a 100% stacked area chart.\n",
    "\n",
    "This produces the following visual:\n",
    "\n",
    "![A 100% stacked area chart showing the distribution of sales by month](documentation_images/ReportSalesByMonth.png)"
   ]
  },
  {
   "cell_type": "markdown",
   "id": "d404da1d-5d01-4598-9758-ab93bc6d0954",
   "metadata": {},
   "source": [
    "# Refinements to the report"
   ]
  },
  {
   "cell_type": "markdown",
   "id": "1984adfb-7f62-4828-9855-1ba84e20d42f",
   "metadata": {},
   "source": [
    "The report currently looks as follows:\n",
    "\n",
    "![the first draft of the report](documentation_images/ReportDraft1.png)"
   ]
  },
  {
   "cell_type": "markdown",
   "id": "524f9811-28af-4cb5-afbb-7ac41af7d8ff",
   "metadata": {},
   "source": [
    "We start with some functional adjustments, before finishing with the visual formatting (changing axes labels, titles, subtitles, adding a colour scheme and borders, etc).\n",
    "\n",
    "Adjustments to be made are as follows (we will not explicitly walk through the majority of these, as the fixes are either straightforward or not very insightful):\n",
    "\n",
    "1. The period spanning 82 years is too much (1968 - 2024). In order to save on horizontal space, whilst still producing visuals for a reasonable time period, we restrict the period from 2000-2024.\n",
    "   \n",
    "   This is achieved by adding a page level filter (**View -> Filters -> Filters on this page**) to only show `YearsDim.year` $\\geq$ 2000.\n",
    "\n",
    "2. The visualisation showing the distribution of average house prices by type (the middle right visualisation) is a bit... boring... especially compared to the other visualisations. Moreover, the visualisations in general currently look a bit cramped, especially in the bottom corner. Overall, the report would benefit from removing this visualisation and making the others around it bigger.\n",
    "\n",
    "    This is achieved by deleting the middle right visualisation.\n",
    "\n",
    "\n",
    "This yields the following:\n",
    "\n",
    "![second draft of report, after removing a visual and filtering the years from 2000 onwards](documentation_images/ReportDraft2.png)\n",
    "\n",
    "More adjustments are needed; it still feels too cramped.\n",
    "\n",
    "3. The affordability index visual is too big relative to the information it displays, especially as the other visuals still look cramped.\n",
    "\n",
    "    To resolve this, we make the affordability index by region visualisation a bar chart, rather than a column chart, and place it in the middle column of the visualisation. We then move the sales-volume related visuals to the right-hand column, and vertically stretch them.\n",
    "\n",
    "4. The visuals on the left could do with more vertical space. The only difference between the average price charts is that one shows nominal prices, whilst the other shows CPIH-adjusted prices, so rather than have two charts, we could have one chart with a dropdown. This would allow us to extend the (remaining) two visuals vertically.\n",
    "\n",
    "   This is achieved in two steps.\n",
    "\n",
    "   Firstly, we create a new table with one column and two values (say \"Nominal\" and \"CPIH-adjusted\"). These are the values which will appear in the dropdown slicer.\n",
    "\n",
    "   The second step is to create a new measure (which will be used as the y-axis value in the chart) which tells Power BI whether to use nominal or CPIH-adjusted values, based on the dropdown selection. Explicitly, a measure with this functionality is\n",
    "\n",
    "   ```dax\n",
    "    avg_price_RorN_nominal_or_CPIH_adjusted = \n",
    "    IF(\n",
    "        SELECTEDVALUE(PriceType[Price Type]) = \"CPIH Adjusted\",\n",
    "        [avg_price_CPIH_adjusted_RorN], \n",
    "        [avg_price_RorN] --note that if no value is selected, then the \"ELSE\" value is used, and so nominal prices are used\n",
    "    )\n",
    "   ```\n",
    "\n",
    "After making these adjustments, the report looks as follows:\n",
    "\n",
    "![Draft of report after making the affordability index a bar chart, moving the sales volume related visuals to the right, and merging the nominal/CPIH-adjusted house price charts into one](documentation_images/ReportDraft3.png)"
   ]
  },
  {
   "cell_type": "markdown",
   "id": "16d23aa0-ccdb-421b-9a0e-68cfafbfb756",
   "metadata": {},
   "source": [
    "This is acceptable in terms of sizing and spacing. \n",
    "\n",
    "All that is left is to make the visuals look nice by adding an overall colour scheme, sorting out titles, axes, legends and tick labels.\n",
    "\n",
    "As this is essentially just going through each visual's formatting pane and choosing suitable options, as well as the occasional new calculated column (of which we have walked through many), we omit the walk-through of the final formatting...\n",
    "\n",
    "The resulting report is as follows:"
   ]
  },
  {
   "cell_type": "markdown",
   "id": "a6f65aa2-639a-41c0-b664-7f604c1f02f5",
   "metadata": {},
   "source": [
    "![The final report](documentation_images/ReportDraft4Final.png)"
   ]
  },
  {
   "cell_type": "markdown",
   "id": "ff7a9059-9e0c-4eb7-a37b-ff5f987a609d",
   "metadata": {},
   "source": [
    "The Year and Region slicers can be adjusted to filter the data (the Region slicer does not interact with the centerpiece).\n",
    "\n",
    "Moreover, the title of the centerpiece visual is dynamic with respect to the year(s) selected in the slicer.\n",
    "\n",
    "![An example of the slicers being used in the final report](documentation_images/ReportDraft4FinalSlicerAdjustment.png)"
   ]
  }
 ],
 "metadata": {
  "kernelspec": {
   "display_name": "Python [conda env:base] *",
   "language": "python",
   "name": "conda-base-py"
  },
  "language_info": {
   "codemirror_mode": {
    "name": "ipython",
    "version": 3
   },
   "file_extension": ".py",
   "mimetype": "text/x-python",
   "name": "python",
   "nbconvert_exporter": "python",
   "pygments_lexer": "ipython3",
   "version": "3.12.7"
  }
 },
 "nbformat": 4,
 "nbformat_minor": 5
}
